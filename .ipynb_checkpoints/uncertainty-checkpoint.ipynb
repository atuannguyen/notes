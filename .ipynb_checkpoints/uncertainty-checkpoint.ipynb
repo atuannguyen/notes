{
 "cells": [
  {
   "cell_type": "markdown",
   "metadata": {},
   "source": [
    "# Uncertainty"
   ]
  },
  {
   "cell_type": "markdown",
   "metadata": {},
   "source": [
    "## Two kinds of uncertainty\n",
    "\n",
    "There are 2 kinds of uncertainty in a prediction of a ML model:\n",
    "\n",
    "- Epistemic uncertainty: is the uncertainty due to the lack of knowledge. In ML terms, this corresponds to the case where the model parameters are poorly determined due to the lack of data, so that the posterior of the parameters is broad.\n",
    "\n",
    "- Aleatoric uncertainty: is due to the stochasticity of the data, e.g. the noise in the data generation/collection process. Even if the model is given enough data, it cannot make perfect predictions because of that noise."
   ]
  },
  {
   "cell_type": "markdown",
   "metadata": {},
   "source": [
    "## Uncertainty measurement in ML\n",
    "\n",
    "In a classification setting, the followings can be used as measures/proxies for uncertainty:\n",
    "\n",
    "***1. Prediction entropy***\n",
    "\n",
    "When the output of a model is a conditional probability distribution $P(y|x)$ (where $x$ is the input and $y$ represents label), then a straight-forward measure of the uncertainty is the entropy of the distribution:\n",
    "\n",
    "\\begin{equation}\n",
    "H[P(y|x)] = -\\sum_y P(y|x)\\log P(y|x), \\quad \\text{ in a classification setting, where the output is discrete}\n",
    "\\end{equation}\n",
    "However, this measure of uncertainty doesn't distinguishes between epistemic and aleatoric uncertainty.\n",
    "\n",
    "***2. Information gain between the model paramters and the data (point)***\n",
    "\n",
    "Recall that the mutual information between 2 random variables $X$ and $Y$ is:\n",
    "\n",
    "\\begin{equation}\n",
    "I(X,Y) = H[P(X)] - \\mathbb{E}_{P(y)}\\left[H[P(X|Y]\\right] = H[P(Y)] - \\mathbb{E}_{P(x)}\\left[H[P(Y|X]\\right]\n",
    "\\end{equation}\n",
    "\n",
    "The amount of information we would gain about the model parameters $w$ if we were to receive a label $y$ for a new point $x$, given the dataset $D$ is then given by:\n",
    "\n",
    "\\begin{equation}\n",
    "I(w,y|D,x) = H[p(y|x,D)] - \\mathbb{E}_{p(w|D)}\\left[H[p(y|x,w]\\right]\n",
    "\\end{equation}\n",
    "\n",
    "This can be (intuitively) explained as, if the model parameters already explain a data point well (the mutual information is high), then it is less uncertain about that point. This is a measure of the epistemic uncertainty.\n",
    "\n",
    "The terms in the above equation can be approximated by MC sampling.\n",
    "\n",
    "***3. Variance of the probs (post-softmax), a proxy***\n",
    "\n",
    "This is just a proxy, and in fact, it is an approximation of the mutual information described above.\n",
    "\n",
    "If we have $T$ MC samples of the parameters, where $p_i$ is the post-softmax vector of the prediction given sample $i$, $p_{ij}$ is $p_i$'s $j^{th}$ element and $\\hat{p}_j$ is the mean of $(p_{ij})_{i=1}^T$, we have:\n",
    "\n",
    "\\begin{equation}\n",
    "\\begin{split}\n",
    "\\hat{\\sigma}^2 &= \\frac{1}{C}\\sum_{j=1}^C \\frac{1}{T}\\sum_{i=1}^T (p_{ij}-\\hat{p}_j)^2 \\\\\n",
    "&= \\frac{1}{C}\\sum_{j=1}^C \\left(\\frac{1}{T}\\left(\\sum_{i=1}^T p_{ij}^2\\right)  - \\hat{p}_j^2\\right)\n",
    "\\end{split}\n",
    "\\end{equation}\n",
    "\n",
    "And the approximate mutual information is:\n",
    "\n",
    "\\begin{equation}\n",
    "\\begin{split}\n",
    "\\hat{I} &= H(\\hat{p})- \\frac{1}{T} \\sum_{i=1}^T H(p_i)\\\\\n",
    "&= \\sum_j \\left[\\frac{1}{T}\\left(\\sum_{i=1}^T p_{ij}\\log p_{ij}\\right) - \\hat{p}_j \\log \\hat{p}_j\\right]\n",
    "\\end{split}\n",
    "\\end{equation}\n",
    "\n",
    "Using the Taylor series for the logarithm we have $\\log p \\approx p-1$, so:\n",
    "\\begin{equation}\n",
    "\\begin{split}\n",
    "\\hat{I} &\\approx \\sum_j \\left[\\frac{1}{T}\\left(\\sum_{i=1}^T p_{ij}(p_{ij}-1)\\right) - \\hat{p}_j (\\hat{p}_j-1)\\right]\\\\\n",
    "&= \\sum_j \\left[\\frac{1}{T}\\left(\\sum_{i=1}^T p_{ij}^2\\right) - \\hat{p}_j^2 - \\frac{1}{T}\\left(\\sum_{i=1}^T p_{ij}\\right) + \\hat{p}_j\\right]\\\\\n",
    "&= \\sum_j \\left[\\frac{1}{T}\\left(\\sum_{i=1}^T p_{ij}^2\\right) - \\hat{p}_j^2\\right]\\\\\n",
    "&= C \\hat{\\sigma}^2, \\quad \\text{where C is number of class}\n",
    "\\end{split}\n",
    "\\end{equation}\n",
    "\n",
    "Therefore, the variance of the probs (post-softmax) can be used as a proxy for the mutual information (epistemic uncertainty)."
   ]
  },
  {
   "cell_type": "code",
   "execution_count": null,
   "metadata": {},
   "outputs": [],
   "source": []
  }
 ],
 "metadata": {
  "kernelspec": {
   "display_name": "Python 3",
   "language": "python",
   "name": "python3"
  },
  "language_info": {
   "codemirror_mode": {
    "name": "ipython",
    "version": 3
   },
   "file_extension": ".py",
   "mimetype": "text/x-python",
   "name": "python",
   "nbconvert_exporter": "python",
   "pygments_lexer": "ipython3",
   "version": "3.8.2"
  }
 },
 "nbformat": 4,
 "nbformat_minor": 4
}
